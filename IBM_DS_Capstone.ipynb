{
  "nbformat": 4,
  "nbformat_minor": 0,
  "metadata": {
    "colab": {
      "name": "IBM_DS_Capstone.ipynb",
      "provenance": []
    },
    "kernelspec": {
      "name": "python3",
      "display_name": "Python 3"
    }
  },
  "cells": [
    {
      "cell_type": "markdown",
      "metadata": {
        "id": "8qwZ40RlB_zo"
      },
      "source": [
        "# Python for Data Science Applied Capstone\r\n",
        "## This notebook will combine some Python code as well as commentary in order to complete the IBM Data Science Capstone project."
      ]
    },
    {
      "cell_type": "code",
      "metadata": {
        "colab": {
          "base_uri": "https://localhost:8080/"
        },
        "id": "TkpvovFcCXZu",
        "outputId": "8fa5b9fc-b2b2-431c-86eb-a56549354a16"
      },
      "source": [
        "import pandas as pd\r\n",
        "import numpy as np\r\n",
        "print(\"Hello, Project Capstone Course!\")"
      ],
      "execution_count": 1,
      "outputs": [
        {
          "output_type": "stream",
          "text": [
            "Hello, Project Capstone Course!\n"
          ],
          "name": "stdout"
        }
      ]
    },
    {
      "cell_type": "code",
      "metadata": {
        "id": "2k1gSHcSCgqC"
      },
      "source": [
        ""
      ],
      "execution_count": null,
      "outputs": []
    }
  ]
}